{
 "cells": [
  {
   "cell_type": "markdown",
   "metadata": {},
   "source": [
    "# Intro to Python! \n",
    "\n",
    "This notebook is going to serve as a way to introduce you to coding in Python"
   ]
  },
  {
   "cell_type": "markdown",
   "metadata": {},
   "source": [
    "First off, variable types\n",
    "A variable is something used to hold a value - other languages have explicit types (int=whole number, string=words, char=single character, long=really big int, etc.). Python has these types (int=int, string=str, etc.) but you don't explicitly define variables to these types. Let's see an example below"
   ]
  },
  {
   "cell_type": "code",
   "execution_count": 5,
   "metadata": {},
   "outputs": [
    {
     "name": "stdout",
     "output_type": "stream",
     "text": [
      "0\n",
      "<class 'int'>\n",
      "1.0\n",
      "<class 'float'>\n",
      "word\n",
      "<class 'str'>\n",
      "[]\n",
      "<class 'list'>\n"
     ]
    }
   ],
   "source": [
    "our_variable = 0 # this is an int\n",
    "print(our_variable) # print = writing to console\n",
    "print(type(our_variable))\n",
    "our_variable = 1.0 # now it's a float (decimal/mixed number)!\n",
    "print(our_variable)\n",
    "print(type(our_variable))\n",
    "our_variable = \"word\" # now it's a string!\n",
    "print(our_variable)\n",
    "print(type(our_variable))\n",
    "our_variable = [] # now it's a list\n",
    "print(our_variable)\n",
    "print(type(our_variable))\n",
    "\n"
   ]
  },
  {
   "cell_type": "markdown",
   "metadata": {},
   "source": [
    "So that's the basics of variables - let's go a little bit deeper into how we can use them"
   ]
  },
  {
   "cell_type": "markdown",
   "metadata": {},
   "source": [
    "First up, ints (integers)"
   ]
  },
  {
   "cell_type": "code",
   "execution_count": 6,
   "metadata": {},
   "outputs": [
    {
     "name": "stdout",
     "output_type": "stream",
     "text": [
      "3.0\n"
     ]
    }
   ],
   "source": [
    "my_int = 1\n",
    "a = 5\n",
    "b = 6\n",
    "# we can do operations with it! \n",
    "# a+b = add, a-b = subtract, a*b = multiply, a/b = divide, a**b = raise a to power of b, modulus a%b = remainder when a is divided by b\n",
    "\n",
    "# fill in the below operations\n",
    "add = \n",
    "subtract = \n",
    "divide = \n",
    "multiply = \n",
    "power = \n",
    "mod = \n",
    "\n",
    "# --------------------\n",
    "\n",
    "print(f\"addition valid: {add == 11}\")\n",
    "print(f\"subtract valid: {subtract == -1}\")\n",
    "print(f\"divide valid: {divide == 0}\") # integer division = becomes 5/6 but only integers so the result is floored (rounded down) to int\n",
    "print(f\"multiply valid: {multiply == 30}\")\n",
    "print(f\"exponent valid: {power == 15625}\")\n",
    "print(f\"modulus (mod) valid: {mod == 5}\")\n",
    "\n",
    "# We can also iterate using this as a range -> \"for i in range(N)\" where N is the number of iterations performed\n",
    "# Note: Python is 0 indexed so printing i at each iteration of \"i in range(10)\" would result in 0, 1, 2, ..., 9\n",
    "# The same holds for array indexing: \n",
    "# [a, b, c] -> values\n",
    "#  0  1  2  -> indices\n",
    "\n",
    "# i.e. creating a list with 5 0's \n",
    "arr = [0 for i in range(5)]\n",
    "print(arr)\n",
    "\n",
    "for i in range(10):\n",
    "    print(f\"iteration {i+1}\")\n",
    "\n",
    "# ------------ Fill in\n",
    "# iterate over a range of N and create an integer storing the sum of each iteration number (i.e. a = 0 + 1 + 2 for a range(3))\n",
    "iterSum = 0 # use this\n",
    "N = 15\n",
    "\n",
    "\n",
    "\n",
    "\n",
    "\n",
    "# ------- end\n",
    "print(iterSum)\n"
   ]
  },
  {
   "cell_type": "markdown",
   "metadata": {},
   "source": [
    "# String Operations"
   ]
  },
  {
   "cell_type": "markdown",
   "metadata": {},
   "source": [
    "We can iterate over each character in it and index into it (like we would for a list!)\n",
    "We can get the length of a string/list with `len(string)`"
   ]
  },
  {
   "cell_type": "code",
   "execution_count": 13,
   "metadata": {},
   "outputs": [
    {
     "name": "stdout",
     "output_type": "stream",
     "text": [
      "11\n",
      "t\n",
      "e\n",
      "a\n",
      "m\n",
      " \n",
      "i\n",
      "m\n",
      "p\n",
      "a\n",
      "c\n",
      "t\n",
      "index 0 char t\n",
      "index 1 char e\n",
      "index 2 char a\n",
      "index 3 char m\n",
      "index 4 char  \n",
      "index 5 char i\n",
      "index 6 char m\n",
      "index 7 char p\n",
      "index 8 char a\n",
      "index 9 char c\n",
      "index 10 char t\n",
      "t\n",
      "a3\n"
     ]
    }
   ],
   "source": [
    "ourString = \"team impact\"\n",
    "print(len(ourString)) # string length\n",
    "\n",
    "# printing each character in the string by iterating over it\n",
    "for char in ourString:\n",
    "    print(char)\n",
    "\n",
    "\n",
    "# enumeration - iterating over each character and getting the index too\n",
    "for i, char in enumerate(ourString):\n",
    "    print(f\"index {i} char {char}\")\n",
    "\n",
    "# indexing into the string\n",
    "print(ourString[0])\n",
    "\n",
    "# we can also add strings together!\n",
    "print(\"abc\" + \"efg\")\n"
   ]
  },
  {
   "cell_type": "code",
   "execution_count": 14,
   "metadata": {},
   "outputs": [
    {
     "ename": "TypeError",
     "evalue": "can only concatenate str (not \"int\") to str",
     "output_type": "error",
     "traceback": [
      "\u001b[1;31m---------------------------------------------------------------------------\u001b[0m",
      "\u001b[1;31mTypeError\u001b[0m                                 Traceback (most recent call last)",
      "Cell \u001b[1;32mIn[14], line 2\u001b[0m\n\u001b[0;32m      1\u001b[0m \u001b[39m# we can't combine stuff like this to create a string - throws an error\u001b[39;00m\n\u001b[1;32m----> 2\u001b[0m \u001b[39mprint\u001b[39m(\u001b[39m\"\u001b[39;49m\u001b[39ma\u001b[39;49m\u001b[39m\"\u001b[39;49m \u001b[39m+\u001b[39;49m \u001b[39m3\u001b[39;49m)\n",
      "\u001b[1;31mTypeError\u001b[0m: can only concatenate str (not \"int\") to str"
     ]
    }
   ],
   "source": [
    "\n",
    "# we can't combine stuff like this to create a string - throws an error\n",
    "print(\"a\" + 3)\n"
   ]
  },
  {
   "cell_type": "code",
   "execution_count": 16,
   "metadata": {},
   "outputs": [
    {
     "name": "stdout",
     "output_type": "stream",
     "text": [
      "a3\n",
      "18\n"
     ]
    }
   ],
   "source": [
    "\n",
    "# we can however cast the int to a string (convert datatype) and combine them!\n",
    "print(\"a\" + str(3))\n",
    "\n",
    "# and vice versa, if the string is a number we can convert (cast) to int and use it as so\n",
    "print(int(\"15\") + 3)"
   ]
  },
  {
   "cell_type": "code",
   "execution_count": null,
   "metadata": {},
   "outputs": [],
   "source": [
    "# For you to do:  create a string and print every character at even indices (hint: enumerate and modulus)\n",
    "# FILL IN HERE"
   ]
  },
  {
   "cell_type": "markdown",
   "metadata": {},
   "source": [
    "# One last thing - Lists!"
   ]
  },
  {
   "cell_type": "markdown",
   "metadata": {},
   "source": [
    "We can do some funny stuff with these and they're very useful"
   ]
  },
  {
   "cell_type": "code",
   "execution_count": 22,
   "metadata": {},
   "outputs": [
    {
     "name": "stdout",
     "output_type": "stream",
     "text": [
      "Lists equal: True\n",
      "[1, 2]\n",
      "[1, 2, 3]\n",
      "3\n"
     ]
    }
   ],
   "source": [
    "# we can initialize with values\n",
    "mylist = [1, 2, 3]\n",
    "\n",
    "# or we can initialize empty and add them with list.append\n",
    "list2 = []\n",
    "list2.append(1)\n",
    "list2.append(2)\n",
    "list2.append(3)\n",
    "\n",
    "print(f\"Lists equal: {mylist == list2}\")\n",
    "\n",
    "# we can also remove items with list.remove (assuming the value is present in the list, otherwise an error is raised)\n",
    "list2.remove(3)\n",
    "print(list2)\n",
    "\n",
    "# we can also initialize lists with variables instead of hardset numbers\n",
    "a=1\n",
    "b=2\n",
    "c=3\n",
    "l = [a, b, c]\n",
    "print(l)\n",
    "\n",
    "# we can get the length of the list with this\n",
    "print(len(l))"
   ]
  },
  {
   "cell_type": "code",
   "execution_count": null,
   "metadata": {},
   "outputs": [],
   "source": [
    "# iterate over all numbers in the range 30 and add them to a list. Then print the list \n",
    "# expected output is [0, 1, 2, 3, 4, 5, ..., 28, 29] with len(list) = 30\n",
    "\n",
    "# FILL IN HERE\n",
    "yourlist = []\n"
   ]
  },
  {
   "cell_type": "markdown",
   "metadata": {},
   "source": [
    "# Cool thing for debugging: f-strings (format strings)"
   ]
  },
  {
   "cell_type": "markdown",
   "metadata": {},
   "source": [
    "You probably saw the stuff I was using to print values within strings - here's how to use them\n",
    "You declare a normal string but put an \"f\" in front of the first quote. Now, you can put sets of curly braces inside the string and anything within those will be interpreted as a code operation/Python"
   ]
  },
  {
   "cell_type": "code",
   "execution_count": 25,
   "metadata": {},
   "outputs": [
    {
     "name": "stdout",
     "output_type": "stream",
     "text": [
      "words 8 and letters\n"
     ]
    }
   ],
   "source": [
    "fstring = f\"words {3+5} and letters\"\n",
    "print(fstring)\n"
   ]
  }
 ],
 "metadata": {
  "kernelspec": {
   "display_name": "Python 3",
   "language": "python",
   "name": "python3"
  },
  "language_info": {
   "codemirror_mode": {
    "name": "ipython",
    "version": 3
   },
   "file_extension": ".py",
   "mimetype": "text/x-python",
   "name": "python",
   "nbconvert_exporter": "python",
   "pygments_lexer": "ipython3",
   "version": "3.11.8"
  },
  "orig_nbformat": 4
 },
 "nbformat": 4,
 "nbformat_minor": 2
}
